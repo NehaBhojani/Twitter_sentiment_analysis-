{
 "cells": [
  {
   "cell_type": "code",
   "execution_count": 7,
   "metadata": {},
   "outputs": [],
   "source": [
    "\n",
    "import re\n",
    "import pandas as pd \n",
    "import numpy as np \n",
    "import matplotlib.pyplot as plt \n",
    "import seaborn as sns\n",
    "import string\n",
    "import nltk\n",
    "import warnings \n",
    "warnings.filterwarnings(\"ignore\", category=DeprecationWarning)\n",
    "\n",
    "df_train = pd.read_csv(\"train.csv\")\n",
    "df_test = pd.read_csv(\"test.csv\")\n"
   ]
  },
  {
   "cell_type": "code",
   "execution_count": 8,
   "metadata": {},
   "outputs": [
    {
     "name": "stderr",
     "output_type": "stream",
     "text": [
      "C:\\Users\\HP\\Anaconda3\\lib\\site-packages\\pandas\\core\\frame.py:6692: FutureWarning: Sorting because non-concatenation axis is not aligned. A future version\n",
      "of pandas will change to not sort by default.\n",
      "\n",
      "To accept the future behavior, pass 'sort=False'.\n",
      "\n",
      "To retain the current behavior and silence the warning, pass 'sort=True'.\n",
      "\n",
      "  sort=sort)\n"
     ]
    }
   ],
   "source": [
    "combi = df_train.append(df_test, ignore_index=True)\n",
    "\n"
   ]
  },
  {
   "cell_type": "code",
   "execution_count": 13,
   "metadata": {},
   "outputs": [
    {
     "data": {
      "text/plain": [
       "dtype('O')"
      ]
     },
     "execution_count": 13,
     "metadata": {},
     "output_type": "execute_result"
    }
   ],
   "source": [
    "combi['tweet'].dtype\n",
    "\n",
    "\n"
   ]
  },
  {
   "cell_type": "code",
   "execution_count": 15,
   "metadata": {},
   "outputs": [],
   "source": [
    "def remove_pattern(input_txt, pattern):\n",
    "    r = re.findall(pattern, input_txt)\n",
    "    for i in r:\n",
    "        input_txt = re.sub(i, '', input_txt)\n",
    "        \n",
    "    return input_txt\n",
    "\n",
    "# remove twitter handles (@user)\n",
    "combi['tidy_tweet'] = np.vectorize(remove_pattern)(combi['tweet'].astype(str), \"@[\\w]*\")"
   ]
  },
  {
   "cell_type": "code",
   "execution_count": 16,
   "metadata": {},
   "outputs": [
    {
     "data": {
      "text/html": [
       "<div>\n",
       "<style scoped>\n",
       "    .dataframe tbody tr th:only-of-type {\n",
       "        vertical-align: middle;\n",
       "    }\n",
       "\n",
       "    .dataframe tbody tr th {\n",
       "        vertical-align: top;\n",
       "    }\n",
       "\n",
       "    .dataframe thead th {\n",
       "        text-align: right;\n",
       "    }\n",
       "</style>\n",
       "<table border=\"1\" class=\"dataframe\">\n",
       "  <thead>\n",
       "    <tr style=\"text-align: right;\">\n",
       "      <th></th>\n",
       "      <th>sentiment</th>\n",
       "      <th>tweet</th>\n",
       "      <th>tweet_id</th>\n",
       "      <th>tidy_tweet</th>\n",
       "    </tr>\n",
       "  </thead>\n",
       "  <tbody>\n",
       "    <tr>\n",
       "      <th>0</th>\n",
       "      <td>1.0</td>\n",
       "      <td>#sxswnui #sxsw #apple defining language of tou...</td>\n",
       "      <td>1701</td>\n",
       "      <td>#sxswnui #sxsw #apple defining language of tou...</td>\n",
       "    </tr>\n",
       "    <tr>\n",
       "      <th>1</th>\n",
       "      <td>1.0</td>\n",
       "      <td>Learning ab Google doodles! All doodles should...</td>\n",
       "      <td>1851</td>\n",
       "      <td>Learning ab Google doodles! All doodles should...</td>\n",
       "    </tr>\n",
       "    <tr>\n",
       "      <th>2</th>\n",
       "      <td>2.0</td>\n",
       "      <td>one of the most in-your-face ex. of stealing t...</td>\n",
       "      <td>2689</td>\n",
       "      <td>one of the most in-your-face ex. of stealing t...</td>\n",
       "    </tr>\n",
       "    <tr>\n",
       "      <th>3</th>\n",
       "      <td>0.0</td>\n",
       "      <td>This iPhone #SXSW app would b pretty awesome i...</td>\n",
       "      <td>4525</td>\n",
       "      <td>This iPhone #SXSW app would b pretty awesome i...</td>\n",
       "    </tr>\n",
       "    <tr>\n",
       "      <th>4</th>\n",
       "      <td>1.0</td>\n",
       "      <td>Line outside the Apple store in Austin waiting...</td>\n",
       "      <td>3604</td>\n",
       "      <td>Line outside the Apple store in Austin waiting...</td>\n",
       "    </tr>\n",
       "  </tbody>\n",
       "</table>\n",
       "</div>"
      ],
      "text/plain": [
       "   sentiment                                              tweet  tweet_id  \\\n",
       "0        1.0  #sxswnui #sxsw #apple defining language of tou...      1701   \n",
       "1        1.0  Learning ab Google doodles! All doodles should...      1851   \n",
       "2        2.0  one of the most in-your-face ex. of stealing t...      2689   \n",
       "3        0.0  This iPhone #SXSW app would b pretty awesome i...      4525   \n",
       "4        1.0  Line outside the Apple store in Austin waiting...      3604   \n",
       "\n",
       "                                          tidy_tweet  \n",
       "0  #sxswnui #sxsw #apple defining language of tou...  \n",
       "1  Learning ab Google doodles! All doodles should...  \n",
       "2  one of the most in-your-face ex. of stealing t...  \n",
       "3  This iPhone #SXSW app would b pretty awesome i...  \n",
       "4  Line outside the Apple store in Austin waiting...  "
      ]
     },
     "execution_count": 16,
     "metadata": {},
     "output_type": "execute_result"
    }
   ],
   "source": [
    "combi.head()\n"
   ]
  },
  {
   "cell_type": "code",
   "execution_count": 17,
   "metadata": {},
   "outputs": [
    {
     "data": {
      "text/plain": [
       "0    [#sxswnui, #sxsw, #apple, defining, language, ...\n",
       "1    [Learning, ab, Google, doodles!, All, doodles,...\n",
       "2    [one, of, the, most, in-your-face, ex., of, st...\n",
       "3    [This, iPhone, #SXSW, app, would, b, pretty, a...\n",
       "4    [Line, outside, the, Apple, store, in, Austin,...\n",
       "Name: tidy_tweet, dtype: object"
      ]
     },
     "execution_count": 17,
     "metadata": {},
     "output_type": "execute_result"
    }
   ],
   "source": [
    "# tokenize the tweet after removing @\n",
    "tokenized_tweet = combi['tidy_tweet'].apply(lambda x: x.split())\n",
    "tokenized_tweet.head()"
   ]
  },
  {
   "cell_type": "code",
   "execution_count": 18,
   "metadata": {},
   "outputs": [],
   "source": [
    "# function to collect hashtags\n",
    "def hashtag_extract(x):\n",
    "    hashtags = []\n",
    "    # Loop over the words in the tweet\n",
    "    for i in x:\n",
    "        ht = re.findall(r\"#(\\w+)\", i)\n",
    "        hashtags.append(ht)\n",
    "\n",
    "    return hashtags"
   ]
  },
  {
   "cell_type": "code",
   "execution_count": 19,
   "metadata": {},
   "outputs": [
    {
     "data": {
      "text/html": [
       "<div>\n",
       "<style scoped>\n",
       "    .dataframe tbody tr th:only-of-type {\n",
       "        vertical-align: middle;\n",
       "    }\n",
       "\n",
       "    .dataframe tbody tr th {\n",
       "        vertical-align: top;\n",
       "    }\n",
       "\n",
       "    .dataframe thead th {\n",
       "        text-align: right;\n",
       "    }\n",
       "</style>\n",
       "<table border=\"1\" class=\"dataframe\">\n",
       "  <thead>\n",
       "    <tr style=\"text-align: right;\">\n",
       "      <th></th>\n",
       "      <th>sentiment</th>\n",
       "      <th>tweet</th>\n",
       "      <th>tweet_id</th>\n",
       "      <th>tidy_tweet</th>\n",
       "    </tr>\n",
       "  </thead>\n",
       "  <tbody>\n",
       "    <tr>\n",
       "      <th>0</th>\n",
       "      <td>1.0</td>\n",
       "      <td>#sxswnui #sxsw #apple defining language of tou...</td>\n",
       "      <td>1701</td>\n",
       "      <td>#sxswnui #sxsw #apple defining language of tou...</td>\n",
       "    </tr>\n",
       "    <tr>\n",
       "      <th>1</th>\n",
       "      <td>1.0</td>\n",
       "      <td>Learning ab Google doodles! All doodles should...</td>\n",
       "      <td>1851</td>\n",
       "      <td>Learning ab Google doodles! All doodles should...</td>\n",
       "    </tr>\n",
       "    <tr>\n",
       "      <th>2</th>\n",
       "      <td>2.0</td>\n",
       "      <td>one of the most in-your-face ex. of stealing t...</td>\n",
       "      <td>2689</td>\n",
       "      <td>one of the most in-your-face ex. of stealing t...</td>\n",
       "    </tr>\n",
       "    <tr>\n",
       "      <th>3</th>\n",
       "      <td>0.0</td>\n",
       "      <td>This iPhone #SXSW app would b pretty awesome i...</td>\n",
       "      <td>4525</td>\n",
       "      <td>This iPhone #SXSW app would b pretty awesome i...</td>\n",
       "    </tr>\n",
       "    <tr>\n",
       "      <th>4</th>\n",
       "      <td>1.0</td>\n",
       "      <td>Line outside the Apple store in Austin waiting...</td>\n",
       "      <td>3604</td>\n",
       "      <td>Line outside the Apple store in Austin waiting...</td>\n",
       "    </tr>\n",
       "  </tbody>\n",
       "</table>\n",
       "</div>"
      ],
      "text/plain": [
       "   sentiment                                              tweet  tweet_id  \\\n",
       "0        1.0  #sxswnui #sxsw #apple defining language of tou...      1701   \n",
       "1        1.0  Learning ab Google doodles! All doodles should...      1851   \n",
       "2        2.0  one of the most in-your-face ex. of stealing t...      2689   \n",
       "3        0.0  This iPhone #SXSW app would b pretty awesome i...      4525   \n",
       "4        1.0  Line outside the Apple store in Austin waiting...      3604   \n",
       "\n",
       "                                          tidy_tweet  \n",
       "0  #sxswnui #sxsw #apple defining language of tou...  \n",
       "1  Learning ab Google doodles! All doodles should...  \n",
       "2  one of the most in-your-face ex. of stealing t...  \n",
       "3  This iPhone #SXSW app would b pretty awesome i...  \n",
       "4  Line outside the Apple store in Austin waiting...  "
      ]
     },
     "execution_count": 19,
     "metadata": {},
     "output_type": "execute_result"
    }
   ],
   "source": [
    "combi.head()"
   ]
  },
  {
   "cell_type": "code",
   "execution_count": 55,
   "metadata": {},
   "outputs": [
    {
     "data": {
      "image/png": "[encoded data removed]",
      "text/plain": [
       "<Figure size 1152x360 with 1 Axes>"
      ]
     },
     "metadata": {
      "needs_background": "light"
     },
     "output_type": "display_data"
    }
   ],
   "source": [
    "# extracting hashtags from negative catergory\n",
    "\n",
    "HT_neg = hashtag_extract(combi['tidy_tweet'][combi['sentiment'] == 0.0])\n",
    "HT_neg = sum(HT_neg,[])\n",
    "HT_neg = [item.lower() for item in HT_neg]\n",
    "\n",
    "a = nltk.FreqDist(HT_neg)\n",
    "d = pd.DataFrame({'Hashtag': list(a.keys()),\n",
    "                  'Count': list(a.values())})\n",
    "# selecting top 10 most frequent hashtags     \n",
    "d = d.nlargest(columns=\"Count\", n = 10) \n",
    "plt.figure(figsize=(16,5))\n",
    "ax = sns.barplot(data=d, x= \"Hashtag\", y = \"Count\")\n",
    "ax.set(ylabel = 'Count')\n",
    "plt.show()\n"
   ]
  },
  {
   "cell_type": "code",
   "execution_count": 54,
   "metadata": {},
   "outputs": [
    {
     "data": {
      "text/plain": [
       "{'100tc',\n",
       " '11ntc',\n",
       " '2',\n",
       " '310409h2011',\n",
       " 'abacus',\n",
       " 'adpeopleproblems',\n",
       " 'amateurhour',\n",
       " 'android',\n",
       " 'annoying',\n",
       " 'apple',\n",
       " 'appleatxdt',\n",
       " 'apps',\n",
       " 'at',\n",
       " 'austin',\n",
       " 'batterykiller',\n",
       " 'bettersearch',\n",
       " 'bing',\n",
       " 'blackberry',\n",
       " 'ces',\n",
       " 'checkins',\n",
       " 'circles',\n",
       " 'cnn',\n",
       " 'cnngrill',\n",
       " 'comments',\n",
       " 'confusion',\n",
       " 'conversation',\n",
       " 'coronasdk',\n",
       " 'crashing',\n",
       " 'crowded',\n",
       " 'csr',\n",
       " 'cstejas',\n",
       " 'csuitecsourcing',\n",
       " 'digitalluxury',\n",
       " 'diller',\n",
       " 'drumbeat',\n",
       " 'dyac',\n",
       " 'enchantment',\n",
       " 'fab5',\n",
       " 'fail',\n",
       " 'fb',\n",
       " 'fh',\n",
       " 'flip',\n",
       " 'flipboard',\n",
       " 'fml',\n",
       " 'fuckit',\n",
       " 'futuremf',\n",
       " 'futureoftouch',\n",
       " 'gamestorming',\n",
       " 'google',\n",
       " 'googledoodles',\n",
       " 'gr2l2',\n",
       " 'groupme',\n",
       " 'gswsxsw',\n",
       " 'guykawasaki',\n",
       " 'hacknews',\n",
       " 'help',\n",
       " 'hereforwork',\n",
       " 'idontbelieve',\n",
       " 'illmakeitwork',\n",
       " 'imaconf',\n",
       " 'imthatgood',\n",
       " 'ipad',\n",
       " 'ipad2',\n",
       " 'ipaddesignheadaches',\n",
       " 'iphone',\n",
       " 'iphone5',\n",
       " 'japan',\n",
       " 'jpmobilesummit',\n",
       " 'justsayin',\n",
       " 'kawasaki',\n",
       " 'kids',\n",
       " 'latinasintech',\n",
       " 'latism',\n",
       " 'leanstartup',\n",
       " 'libraries',\n",
       " 'longlinesbadux',\n",
       " 'media',\n",
       " 'microformats',\n",
       " 'mobile',\n",
       " 'mobilefarm',\n",
       " 'mojo',\n",
       " 'mullenweg',\n",
       " 'netflix',\n",
       " 'netflixiphone',\n",
       " 'news',\n",
       " 'newsapps',\n",
       " 'notevenstartedyet',\n",
       " 'nottheipad2',\n",
       " 'novideo',\n",
       " 'nowhammies',\n",
       " 'nten',\n",
       " 'ogilvynotes',\n",
       " 'oldschool',\n",
       " 'osmpw',\n",
       " 'ouch',\n",
       " 'owllove',\n",
       " 'pickmeupanipad2',\n",
       " 'pnid',\n",
       " 'poetry',\n",
       " 'popupstore',\n",
       " 'precommerce',\n",
       " 'prodmktg',\n",
       " 'progressbar',\n",
       " 'project314',\n",
       " 'psych',\n",
       " 'pushsnowboarding',\n",
       " 'qagb',\n",
       " 'rejection',\n",
       " 'rhizome',\n",
       " 'rise_austin',\n",
       " 'rji',\n",
       " 'saatchiny',\n",
       " 'seenocreepy',\n",
       " 'shocked',\n",
       " 'sightings',\n",
       " 'silly',\n",
       " 'smcomedyfyeah',\n",
       " 'smm',\n",
       " 'social',\n",
       " 'socialfuel',\n",
       " 'socialviewing',\n",
       " 'startupbus',\n",
       " 'sxflip',\n",
       " 'sxsw',\n",
       " 'sxswbigbrands',\n",
       " 'sxswfail',\n",
       " 'sxswgood',\n",
       " 'sxswi',\n",
       " 'sxswk',\n",
       " 'sxswlatam',\n",
       " 'tapworthy',\n",
       " 'technology',\n",
       " 'the_daily',\n",
       " 'thisisdare',\n",
       " 'tmsxsw',\n",
       " 'tsunami',\n",
       " 'twitter',\n",
       " 'twitterpower',\n",
       " 'ubersocial',\n",
       " 'ui',\n",
       " 'uosxsw',\n",
       " 'uxdes',\n",
       " 'veryslow',\n",
       " 'virtualwallet',\n",
       " 'wack',\n",
       " 'web3',\n",
       " 'whowillrise',\n",
       " 'wjchat',\n",
       " 'wth',\n",
       " 'wwsxsw'}"
      ]
     },
     "execution_count": 54,
     "metadata": {},
     "output_type": "execute_result"
    }
   ],
   "source": [
    "set(HT_neg)\n",
    "\n"
   ]
  },
  {
   "cell_type": "code",
   "execution_count": 56,
   "metadata": {},
   "outputs": [
    {
     "data": {
      "image/png": "[encoded data removed]",
      "text/plain": [
       "<Figure size 1152x360 with 1 Axes>"
      ]
     },
     "metadata": {
      "needs_background": "light"
     },
     "output_type": "display_data"
    }
   ],
   "source": [
    "# extracting hashtags from neutral catergory\n",
    "\n",
    "HT_neutral = hashtag_extract(combi['tidy_tweet'][combi['sentiment'] == 1.0])\n",
    "HT_neutral = sum(HT_neutral,[])\n",
    "HT_neutral = [item.lower() for item in HT_neutral]\n",
    "\n",
    "a = nltk.FreqDist(HT_neutral)\n",
    "d = pd.DataFrame({'Hashtag': list(a.keys()),\n",
    "                  'Count': list(a.values())})\n",
    "# selecting top 10 most frequent hashtags     \n",
    "d = d.nlargest(columns=\"Count\", n = 10) \n",
    "plt.figure(figsize=(16,5))\n",
    "ax = sns.barplot(data=d, x= \"Hashtag\", y = \"Count\")\n",
    "ax.set(ylabel = 'Count')\n",
    "plt.show()\n"
   ]
  },
  {
   "cell_type": "code",
   "execution_count": 46,
   "metadata": {},
   "outputs": [
    {
     "data": {
      "image/png": "[encoded data removed]",
      "text/plain": [
       "<Figure size 1152x360 with 1 Axes>"
      ]
     },
     "metadata": {
      "needs_background": "light"
     },
     "output_type": "display_data"
    }
   ],
   "source": [
    "# extracting hashtags from postive catergory\n",
    "\n",
    "HT_pos = hashtag_extract(combi['tidy_tweet'][combi['sentiment'] == 2.0])\n",
    "HT_pos = sum(HT_pos,[])\n",
    "HT_pos = [item.lower() for item in HT_pos]\n",
    "\n",
    "a = nltk.FreqDist(HT_pos)\n",
    "d = pd.DataFrame({'Hashtag': list(a.keys()),\n",
    "                  'Count': list(a.values())})\n",
    "# selecting top 10 most frequent hashtags     \n",
    "d = d.nlargest(columns=\"Count\", n = 10) \n",
    "plt.figure(figsize=(16,5))\n",
    "ax = sns.barplot(data=d, x= \"Hashtag\", y = \"Count\")\n",
    "ax.set(ylabel = 'Count')\n",
    "plt.show()"
   ]
  },
  {
   "cell_type": "code",
   "execution_count": 57,
   "metadata": {},
   "outputs": [
    {
     "data": {
      "image/png": "[encoded data removed]",
      "text/plain": [
       "<Figure size 1152x360 with 1 Axes>"
      ]
     },
     "metadata": {
      "needs_background": "light"
     },
     "output_type": "display_data"
    },
    {
     "data": {
      "text/html": [
       "<div>\n",
       "<style scoped>\n",
       "    .dataframe tbody tr th:only-of-type {\n",
       "        vertical-align: middle;\n",
       "    }\n",
       "\n",
       "    .dataframe tbody tr th {\n",
       "        vertical-align: top;\n",
       "    }\n",
       "\n",
       "    .dataframe thead th {\n",
       "        text-align: right;\n",
       "    }\n",
       "</style>\n",
       "<table border=\"1\" class=\"dataframe\">\n",
       "  <thead>\n",
       "    <tr style=\"text-align: right;\">\n",
       "      <th></th>\n",
       "      <th>Hashtag</th>\n",
       "      <th>Count</th>\n",
       "    </tr>\n",
       "  </thead>\n",
       "  <tbody>\n",
       "    <tr>\n",
       "      <th>0</th>\n",
       "      <td>sxsw</td>\n",
       "      <td>2398</td>\n",
       "    </tr>\n",
       "    <tr>\n",
       "      <th>4</th>\n",
       "      <td>apple</td>\n",
       "      <td>144</td>\n",
       "    </tr>\n",
       "    <tr>\n",
       "      <th>12</th>\n",
       "      <td>ipad2</td>\n",
       "      <td>103</td>\n",
       "    </tr>\n",
       "    <tr>\n",
       "      <th>11</th>\n",
       "      <td>sxswi</td>\n",
       "      <td>80</td>\n",
       "    </tr>\n",
       "    <tr>\n",
       "      <th>6</th>\n",
       "      <td>ipad</td>\n",
       "      <td>73</td>\n",
       "    </tr>\n",
       "    <tr>\n",
       "      <th>40</th>\n",
       "      <td>iphone</td>\n",
       "      <td>62</td>\n",
       "    </tr>\n",
       "    <tr>\n",
       "      <th>21</th>\n",
       "      <td>google</td>\n",
       "      <td>54</td>\n",
       "    </tr>\n",
       "    <tr>\n",
       "      <th>9</th>\n",
       "      <td>android</td>\n",
       "      <td>35</td>\n",
       "    </tr>\n",
       "    <tr>\n",
       "      <th>35</th>\n",
       "      <td>austin</td>\n",
       "      <td>33</td>\n",
       "    </tr>\n",
       "    <tr>\n",
       "      <th>7</th>\n",
       "      <td>tech</td>\n",
       "      <td>22</td>\n",
       "    </tr>\n",
       "  </tbody>\n",
       "</table>\n",
       "</div>"
      ],
      "text/plain": [
       "    Hashtag  Count\n",
       "0      sxsw   2398\n",
       "4     apple    144\n",
       "12    ipad2    103\n",
       "11    sxswi     80\n",
       "6      ipad     73\n",
       "40   iphone     62\n",
       "21   google     54\n",
       "9   android     35\n",
       "35   austin     33\n",
       "7      tech     22"
      ]
     },
     "execution_count": 57,
     "metadata": {},
     "output_type": "execute_result"
    }
   ],
   "source": [
    "# extracting hashtags from can't tell catergory\n",
    "\n",
    "HT_ct = hashtag_extract(combi['tidy_tweet'][combi['sentiment'] == 2.0])\n",
    "HT_ct = sum(HT_ct,[])\n",
    "HT_ct = [item.lower() for item in HT_ct]\n",
    "\n",
    "a = nltk.FreqDist(HT_ct)\n",
    "d = pd.DataFrame({'Hashtag': list(a.keys()),\n",
    "                  'Count': list(a.values())})\n",
    "# selecting top 10 most frequent hashtags     \n",
    "d = d.nlargest(columns=\"Count\", n = 10) \n",
    "plt.figure(figsize=(16,5))\n",
    "ax = sns.barplot(data=d, x= \"Hashtag\", y = \"Count\")\n",
    "ax.set(ylabel = 'Count')\n",
    "plt.show()\n",
    "d"
   ]
  },
  {
   "cell_type": "code",
   "execution_count": null,
   "metadata": {},
   "outputs": [],
   "source": []
  }
 ],
 "metadata": {
  "kernelspec": {
   "display_name": "Python 3",
   "language": "python",
   "name": "python3"
  },
  "language_info": {
   "codemirror_mode": {
    "name": "ipython",
    "version": 3
   },
   "file_extension": ".py",
   "mimetype": "text/x-python",
   "name": "python",
   "nbconvert_exporter": "python",
   "pygments_lexer": "ipython3",
   "version": "3.7.3"
  }
 },
 "nbformat": 4,
 "nbformat_minor": 2
}
