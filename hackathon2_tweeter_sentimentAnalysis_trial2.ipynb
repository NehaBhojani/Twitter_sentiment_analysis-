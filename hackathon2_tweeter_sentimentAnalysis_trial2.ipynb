{
  "nbformat": 4,
  "nbformat_minor": 0,
  "metadata": {
    "colab": {
      "name": "hackathon2_tweeter_sentimentAnalysis_trial2.ipynb",
      "provenance": [],
      "collapsed_sections": []
    },
    "kernelspec": {
      "name": "python3",
      "display_name": "Python 3"
    }
  },
  "cells": [
    {
      "cell_type": "code",
      "metadata": {
        "id": "3l1Y46i4hMsv",
        "colab_type": "code",
        "colab": {}
      },
      "source": [
        "import re\n",
        "import pandas as pd \n",
        "import numpy as np \n",
        "import matplotlib.pyplot as plt \n",
        "import seaborn as sns\n",
        "import string\n",
        "import nltk\n",
        "import warnings \n",
        "warnings.filterwarnings(\"ignore\", category=DeprecationWarning)\n",
        "\n",
        "%matplotlib inline\n",
        "train  = pd.read_csv('train.csv')\n",
        "test = pd.read_csv('test.csv')"
      ],
      "execution_count": 0,
      "outputs": []
    },
    {
      "cell_type": "code",
      "metadata": {
        "id": "biHDow4cjQUw",
        "colab_type": "code",
        "outputId": "35adfb11-5188-49cb-c5c3-dbd4325f7d95",
        "colab": {
          "base_uri": "https://localhost:8080/",
          "height": 194
        }
      },
      "source": [
        "train.head()"
      ],
      "execution_count": 22,
      "outputs": [
        {
          "output_type": "execute_result",
          "data": {
            "text/html": [
              "<div>\n",
              "<style scoped>\n",
              "    .dataframe tbody tr th:only-of-type {\n",
              "        vertical-align: middle;\n",
              "    }\n",
              "\n",
              "    .dataframe tbody tr th {\n",
              "        vertical-align: top;\n",
              "    }\n",
              "\n",
              "    .dataframe thead th {\n",
              "        text-align: right;\n",
              "    }\n",
              "</style>\n",
              "<table border=\"1\" class=\"dataframe\">\n",
              "  <thead>\n",
              "    <tr style=\"text-align: right;\">\n",
              "      <th></th>\n",
              "      <th>tweet_id</th>\n",
              "      <th>tweet</th>\n",
              "      <th>sentiment</th>\n",
              "    </tr>\n",
              "  </thead>\n",
              "  <tbody>\n",
              "    <tr>\n",
              "      <th>0</th>\n",
              "      <td>1701</td>\n",
              "      <td>#sxswnui #sxsw #apple defining language of tou...</td>\n",
              "      <td>1</td>\n",
              "    </tr>\n",
              "    <tr>\n",
              "      <th>1</th>\n",
              "      <td>1851</td>\n",
              "      <td>Learning ab Google doodles! All doodles should...</td>\n",
              "      <td>1</td>\n",
              "    </tr>\n",
              "    <tr>\n",
              "      <th>2</th>\n",
              "      <td>2689</td>\n",
              "      <td>one of the most in-your-face ex. of stealing t...</td>\n",
              "      <td>2</td>\n",
              "    </tr>\n",
              "    <tr>\n",
              "      <th>3</th>\n",
              "      <td>4525</td>\n",
              "      <td>This iPhone #SXSW app would b pretty awesome i...</td>\n",
              "      <td>0</td>\n",
              "    </tr>\n",
              "    <tr>\n",
              "      <th>4</th>\n",
              "      <td>3604</td>\n",
              "      <td>Line outside the Apple store in Austin waiting...</td>\n",
              "      <td>1</td>\n",
              "    </tr>\n",
              "  </tbody>\n",
              "</table>\n",
              "</div>"
            ],
            "text/plain": [
              "   tweet_id                                              tweet  sentiment\n",
              "0      1701  #sxswnui #sxsw #apple defining language of tou...          1\n",
              "1      1851  Learning ab Google doodles! All doodles should...          1\n",
              "2      2689  one of the most in-your-face ex. of stealing t...          2\n",
              "3      4525  This iPhone #SXSW app would b pretty awesome i...          0\n",
              "4      3604  Line outside the Apple store in Austin waiting...          1"
            ]
          },
          "metadata": {
            "tags": []
          },
          "execution_count": 22
        }
      ]
    },
    {
      "cell_type": "code",
      "metadata": {
        "id": "f13OCkhWWh_u",
        "colab_type": "code",
        "colab": {
          "base_uri": "https://localhost:8080/",
          "height": 280
        },
        "outputId": "e901dea6-54cb-42b1-a9d3-a42ee9731ddb"
      },
      "source": [
        "train['sentiment'].value_counts().plot(kind='bar')"
      ],
      "execution_count": 23,
      "outputs": [
        {
          "output_type": "execute_result",
          "data": {
            "text/plain": [
              "<matplotlib.axes._subplots.AxesSubplot at 0x7fc822bd03c8>"
            ]
          },
          "metadata": {
            "tags": []
          },
          "execution_count": 23
        },
        {
          "output_type": "display_data",
          "data": {
            "image/png": "[encoded data removed]",
            "text/plain": [
              "<Figure size 432x288 with 1 Axes>"
            ]
          },
          "metadata": {
            "tags": []
          }
        }
      ]
    },
    {
      "cell_type": "code",
      "metadata": {
        "id": "tqmwEogim_6m",
        "colab_type": "code",
        "colab": {}
      },
      "source": [
        "combi = train.append(test, ignore_index=True)\n",
        "combi\n",
        "# function to remove unwanted patterns\n",
        "def remove_pattern(input_txt, pattern):\n",
        "    r = re.findall(pattern, input_txt)\n",
        "    for i in r:\n",
        "        input_txt = re.sub(i, '', input_txt)\n",
        "        \n",
        "    return input_txt  \n",
        "# remove twitter handles (@user)\n",
        "combi['tidy_tweet'] = np.vectorize(remove_pattern)(combi['tweet'].astype(str), \"@[\\w]*\")\n",
        "# remove special characters, numbers, punctuations\n",
        "combi['tidy_tweet'] = combi['tidy_tweet'].astype(str).replace(\"[^a-zA-Z#]\", \" \")"
      ],
      "execution_count": 0,
      "outputs": []
    },
    {
      "cell_type": "code",
      "metadata": {
        "id": "e0DthPh8nYbE",
        "colab_type": "code",
        "colab": {}
      },
      "source": [
        "# remove hashtag\n",
        "combi['tidy_tweet'] = np.vectorize(remove_pattern)(combi['tweet'].astype(str), \"#\")\n"
      ],
      "execution_count": 0,
      "outputs": []
    },
    {
      "cell_type": "code",
      "metadata": {
        "id": "5ICikH3MteSH",
        "colab_type": "code",
        "colab": {}
      },
      "source": [
        "combi['tidy_tweet']"
      ],
      "execution_count": 0,
      "outputs": []
    },
    {
      "cell_type": "code",
      "metadata": {
        "id": "QMuVu47WtwWb",
        "colab_type": "code",
        "outputId": "0a7f3d39-4390-434a-b577-75f6a2bfbec3",
        "colab": {
          "base_uri": "https://localhost:8080/",
          "height": 126
        }
      },
      "source": [
        "#!pip install vaderSentiment\n",
        "#from vaderSentiment.vaderSentiment import SentimentIntensityAnalyzer\n",
        "#analyser = SentimentIntensityAnalyzer()\n",
        "#def sentiment_analyzer_scores(sentence):\n",
        "#    score = analyser.polarity_scores(sentence)\n",
        "#    print(\"{:-<40} {}\".format(sentence, str(score)))\n",
        "\n",
        "\n",
        "#sentiment_analyzer_scores(combi['tidy_tweet'][0])\n",
        "\n",
        "\n",
        "\n",
        "#def calculate_sentiment_analyser(Clean_text):    \n",
        "#    return analyser.polarity_scores(Clean_text)\n",
        "\n",
        "#calculate_sentiment_analyser(combi['tidy_tweet'][0])\n",
        "\n",
        "\n",
        "#combi[\"sentiments_polarity\"] = combi['tidy_tweet'].apply(lambda x: sentiment_analyzer_scores(x))\n"
      ],
      "execution_count": 5,
      "outputs": [
        {
          "output_type": "stream",
          "text": [
            "Collecting vaderSentiment\n",
            "\u001b[?25l  Downloading https://files.pythonhosted.org/packages/86/9e/c53e1fc61aac5ee490a6ac5e21b1ac04e55a7c2aba647bb8411c9aadf24e/vaderSentiment-3.2.1-py2.py3-none-any.whl (125kB)\n",
            "\r\u001b[K     |██▋                             | 10kB 19.4MB/s eta 0:00:01\r\u001b[K     |█████▏                          | 20kB 1.8MB/s eta 0:00:01\r\u001b[K     |███████▉                        | 30kB 2.6MB/s eta 0:00:01\r\u001b[K     |██████████▍                     | 40kB 1.7MB/s eta 0:00:01\r\u001b[K     |█████████████                   | 51kB 2.1MB/s eta 0:00:01\r\u001b[K     |███████████████▋                | 61kB 2.5MB/s eta 0:00:01\r\u001b[K     |██████████████████▎             | 71kB 2.9MB/s eta 0:00:01\r\u001b[K     |████████████████████▉           | 81kB 3.3MB/s eta 0:00:01\r\u001b[K     |███████████████████████▍        | 92kB 3.7MB/s eta 0:00:01\r\u001b[K     |██████████████████████████      | 102kB 2.8MB/s eta 0:00:01\r\u001b[K     |████████████████████████████▋   | 112kB 2.8MB/s eta 0:00:01\r\u001b[K     |███████████████████████████████▎| 122kB 2.8MB/s eta 0:00:01\r\u001b[K     |████████████████████████████████| 133kB 2.8MB/s \n",
            "\u001b[?25hInstalling collected packages: vaderSentiment\n",
            "Successfully installed vaderSentiment-3.2.1\n"
          ],
          "name": "stdout"
        }
      ]
    },
    {
      "cell_type": "code",
      "metadata": {
        "id": "4FVRG4v5fASH",
        "colab_type": "code",
        "colab": {
          "base_uri": "https://localhost:8080/",
          "height": 261
        },
        "outputId": "21eb3856-5b75-471f-880b-95664f7c4118"
      },
      "source": [
        "combi.head()"
      ],
      "execution_count": 32,
      "outputs": [
        {
          "output_type": "execute_result",
          "data": {
            "text/html": [
              "<div>\n",
              "<style scoped>\n",
              "    .dataframe tbody tr th:only-of-type {\n",
              "        vertical-align: middle;\n",
              "    }\n",
              "\n",
              "    .dataframe tbody tr th {\n",
              "        vertical-align: top;\n",
              "    }\n",
              "\n",
              "    .dataframe thead th {\n",
              "        text-align: right;\n",
              "    }\n",
              "</style>\n",
              "<table border=\"1\" class=\"dataframe\">\n",
              "  <thead>\n",
              "    <tr style=\"text-align: right;\">\n",
              "      <th></th>\n",
              "      <th>sentiment</th>\n",
              "      <th>tweet</th>\n",
              "      <th>tweet_id</th>\n",
              "      <th>tidy_tweet</th>\n",
              "    </tr>\n",
              "  </thead>\n",
              "  <tbody>\n",
              "    <tr>\n",
              "      <th>0</th>\n",
              "      <td>1.0</td>\n",
              "      <td>#sxswnui #sxsw #apple defining language of tou...</td>\n",
              "      <td>1701</td>\n",
              "      <td>sxswnui sxsw apple defining language of touch ...</td>\n",
              "    </tr>\n",
              "    <tr>\n",
              "      <th>1</th>\n",
              "      <td>1.0</td>\n",
              "      <td>Learning ab Google doodles! All doodles should...</td>\n",
              "      <td>1851</td>\n",
              "      <td>Learning ab Google doodles! All doodles should...</td>\n",
              "    </tr>\n",
              "    <tr>\n",
              "      <th>2</th>\n",
              "      <td>2.0</td>\n",
              "      <td>one of the most in-your-face ex. of stealing t...</td>\n",
              "      <td>2689</td>\n",
              "      <td>one of the most in-your-face ex. of stealing t...</td>\n",
              "    </tr>\n",
              "    <tr>\n",
              "      <th>3</th>\n",
              "      <td>0.0</td>\n",
              "      <td>This iPhone #SXSW app would b pretty awesome i...</td>\n",
              "      <td>4525</td>\n",
              "      <td>This iPhone SXSW app would b pretty awesome if...</td>\n",
              "    </tr>\n",
              "    <tr>\n",
              "      <th>4</th>\n",
              "      <td>1.0</td>\n",
              "      <td>Line outside the Apple store in Austin waiting...</td>\n",
              "      <td>3604</td>\n",
              "      <td>Line outside the Apple store in Austin waiting...</td>\n",
              "    </tr>\n",
              "  </tbody>\n",
              "</table>\n",
              "</div>"
            ],
            "text/plain": [
              "   sentiment  ...                                         tidy_tweet\n",
              "0        1.0  ...  sxswnui sxsw apple defining language of touch ...\n",
              "1        1.0  ...  Learning ab Google doodles! All doodles should...\n",
              "2        2.0  ...  one of the most in-your-face ex. of stealing t...\n",
              "3        0.0  ...  This iPhone SXSW app would b pretty awesome if...\n",
              "4        1.0  ...  Line outside the Apple store in Austin waiting...\n",
              "\n",
              "[5 rows x 4 columns]"
            ]
          },
          "metadata": {
            "tags": []
          },
          "execution_count": 32
        }
      ]
    },
    {
      "cell_type": "code",
      "metadata": {
        "id": "3Gzim11XfpIY",
        "colab_type": "code",
        "colab": {
          "base_uri": "https://localhost:8080/",
          "height": 356
        },
        "outputId": "25135b97-1088-4bb9-84f5-3eec4e541fb3"
      },
      "source": [
        "length_train = train['tweet'].str.len()\n",
        "length_test = test['tweet'].str.len()\n",
        "\n",
        "plt.hist(length_train, bins=20, label=\"train_tweets\")\n",
        "plt.hist(length_test, bins=20, label=\"test_tweets\")\n",
        "plt.legend()\n",
        "plt.show()"
      ],
      "execution_count": 27,
      "outputs": [
        {
          "output_type": "stream",
          "text": [
            "/usr/local/lib/python3.6/dist-packages/numpy/lib/histograms.py:839: RuntimeWarning: invalid value encountered in greater_equal\n",
            "  keep = (tmp_a >= first_edge)\n",
            "/usr/local/lib/python3.6/dist-packages/numpy/lib/histograms.py:840: RuntimeWarning: invalid value encountered in less_equal\n",
            "  keep &= (tmp_a <= last_edge)\n"
          ],
          "name": "stderr"
        },
        {
          "output_type": "display_data",
          "data": {
            "image/png": "[encoded data removed]",
            "text/plain": [
              "<Figure size 432x288 with 1 Axes>"
            ]
          },
          "metadata": {
            "tags": []
          }
        }
      ]
    },
    {
      "cell_type": "code",
      "metadata": {
        "id": "5VpDNEPvfvbY",
        "colab_type": "code",
        "colab": {}
      },
      "source": [
        "# remove special characters, numbers, punctuations\n",
        "combi['tidy_tweet'] = combi['tidy_tweet'].astype(str).replace(\"[^a-zA-Z#]\", \" \")\n",
        "\n",
        "#removing short words\n",
        "combi['tidy_tweet'] = combi['tidy_tweet'].apply(lambda x: ' '.join([w for w in x.split() if len(w)>3]))"
      ],
      "execution_count": 0,
      "outputs": []
    },
    {
      "cell_type": "code",
      "metadata": {
        "id": "Ri3zor1oqfPF",
        "colab_type": "code",
        "colab": {
          "base_uri": "https://localhost:8080/",
          "height": 52
        },
        "outputId": "6a8a1d4a-bed3-445e-86f3-3385a73938bb"
      },
      "source": [
        "import nltk\n",
        "from nltk.corpus import stopwords\n",
        "nltk.download('stopwords')\n",
        "stopwords = stopwords.words('english')\n"
      ],
      "execution_count": 34,
      "outputs": [
        {
          "output_type": "stream",
          "text": [
            "[nltk_data] Downloading package stopwords to /root/nltk_data...\n",
            "[nltk_data]   Unzipping corpora/stopwords.zip.\n"
          ],
          "name": "stdout"
        }
      ]
    },
    {
      "cell_type": "code",
      "metadata": {
        "id": "tAfevSsfvap2",
        "colab_type": "code",
        "colab": {
          "base_uri": "https://localhost:8080/",
          "height": 124
        },
        "outputId": "c04aa491-8d4e-4063-9bdd-5eb353067b93"
      },
      "source": [
        "#Tokenization\n",
        "tokenized_tweet = combi['tidy_tweet'].apply(lambda x: x.split())\n",
        "tokenized_tweet.head()\n",
        "\n",
        "from nltk.stem.porter import *\n",
        "stemmer = PorterStemmer()\n",
        "\n",
        "tokenized_tweet = tokenized_tweet.apply(lambda x: [stemmer.stem(i) for i in x]) # stemming\n",
        "tokenized_tweet.head()"
      ],
      "execution_count": 35,
      "outputs": [
        {
          "output_type": "execute_result",
          "data": {
            "text/plain": [
              "0    [sxswnui, sxsw, appl, defin, languag, touch, w...\n",
              "1    [learn, googl, doodles!, doodl, should, light,...\n",
              "2    [most, in-your-fac, steal, show, @mention, &qu...\n",
              "3    [thi, iphon, sxsw, would, pretti, awesom, didn...\n",
              "4    [line, outsid, appl, store, austin, wait, ipad...\n",
              "Name: tidy_tweet, dtype: object"
            ]
          },
          "metadata": {
            "tags": []
          },
          "execution_count": 35
        }
      ]
    },
    {
      "cell_type": "code",
      "metadata": {
        "id": "ld97ndUrxV6d",
        "colab_type": "code",
        "colab": {
          "base_uri": "https://localhost:8080/",
          "height": 230
        },
        "outputId": "972d0288-353d-45ad-a76c-0c7fd6e57c2d"
      },
      "source": [
        "#Now let’s stitch these tokens back together.\n",
        "for i in range(len(tokenized_tweet)):\n",
        "    tokenized_tweet[i] = ' '.join(tokenized_tweet[i])\n",
        "\n",
        "combi['tidy_tweet'] = tokenized_tweet\n",
        "combi['tidy_tweet']\n"
      ],
      "execution_count": 36,
      "outputs": [
        {
          "output_type": "execute_result",
          "data": {
            "text/plain": [
              "0       sxswnui sxsw appl defin languag touch with dif...\n",
              "1       learn googl doodles! doodl should light, funni...\n",
              "2       most in-your-fac steal show @mention &quot;at ...\n",
              "3       thi iphon sxsw would pretti awesom didn't cras...\n",
              "4       line outsid appl store austin wait ipad sxsw {...\n",
              "                              ...                        \n",
              "9088    @mention @mention @mention hmmm....how fast ap...\n",
              "9089    samsung galaxi appear team android sxsw parti ...\n",
              "9090    @mention could ipad tmrw appl pop-up store sxs...\n",
              "9091    veri long queue peopl appl store now, some hav...\n",
              "9092    privaci could headlin googl circl social netwo...\n",
              "Name: tidy_tweet, Length: 9093, dtype: object"
            ]
          },
          "metadata": {
            "tags": []
          },
          "execution_count": 36
        }
      ]
    },
    {
      "cell_type": "code",
      "metadata": {
        "id": "PT5OP5wVxbU_",
        "colab_type": "code",
        "colab": {
          "base_uri": "https://localhost:8080/",
          "height": 35
        },
        "outputId": "3103a797-f878-4ea2-b6bd-3aaf35a77fd9"
      },
      "source": [
        "#Extracting Features from Cleaned Tweets\n",
        "\n",
        "from sklearn.feature_extraction.text import TfidfVectorizer, CountVectorizer\n",
        "import gensim\n",
        "\n",
        "#Bag-of-Words Features\n",
        "bow_vectorizer = CountVectorizer(max_df=0.90, min_df=2, max_features=1000, stop_words='english')\n",
        "bow = bow_vectorizer.fit_transform(combi['tidy_tweet'])\n",
        "bow.shape\n",
        "\n",
        "\n"
      ],
      "execution_count": 37,
      "outputs": [
        {
          "output_type": "execute_result",
          "data": {
            "text/plain": [
              "(9093, 1000)"
            ]
          },
          "metadata": {
            "tags": []
          },
          "execution_count": 37
        }
      ]
    },
    {
      "cell_type": "code",
      "metadata": {
        "id": "aE7vY6AoDoeW",
        "colab_type": "code",
        "colab": {
          "base_uri": "https://localhost:8080/",
          "height": 52
        },
        "outputId": "cfd5cd09-4ef6-4360-e62d-5f94baa97662"
      },
      "source": [
        ""
      ],
      "execution_count": 80,
      "outputs": [
        {
          "output_type": "execute_result",
          "data": {
            "text/plain": [
              "<9093x1000 sparse matrix of type '<class 'numpy.int64'>'\n",
              "\twith 92944 stored elements in Compressed Sparse Row format>"
            ]
          },
          "metadata": {
            "tags": []
          },
          "execution_count": 80
        }
      ]
    },
    {
      "cell_type": "code",
      "metadata": {
        "id": "j4aTtnkSx0DU",
        "colab_type": "code",
        "colab": {
          "base_uri": "https://localhost:8080/",
          "height": 35
        },
        "outputId": "2c031278-2b1c-4d3d-d2db-93c47cf8be1f"
      },
      "source": [
        "#TF-IDF Features¶\n",
        "tfidf_vectorizer = TfidfVectorizer(max_df=0.90, min_df=2, max_features=1000, stop_words='english')\n",
        "tfidf = tfidf_vectorizer.fit_transform(combi['tidy_tweet'])\n",
        "tfidf.shape"
      ],
      "execution_count": 38,
      "outputs": [
        {
          "output_type": "execute_result",
          "data": {
            "text/plain": [
              "(9093, 1000)"
            ]
          },
          "metadata": {
            "tags": []
          },
          "execution_count": 38
        }
      ]
    },
    {
      "cell_type": "code",
      "metadata": {
        "id": "rsVp9e0hx6Nz",
        "colab_type": "code",
        "colab": {
          "base_uri": "https://localhost:8080/",
          "height": 179
        },
        "outputId": "ed19bfc4-7660-498d-d9cb-336a52604c0d"
      },
      "source": [
        "# Building model using Bag-of-Words features\n",
        "from sklearn.linear_model import LogisticRegression\n",
        "from sklearn.model_selection import train_test_split\n",
        "from sklearn.ensemble import RandomForestClassifier\n",
        "from sklearn.metrics import accuracy_score, classification_report\n",
        "from sklearn.metrics import f1_score\n",
        "\n",
        "train_bow = bow[:7274,:]\n",
        "test_bow = bow[7274:,:]\n",
        "\n",
        "# splitting data into training and validation set\n",
        "xtrain_bow, xvalid_bow, ytrain, yvalid = train_test_split(train_bow, train['sentiment'], random_state=42, test_size=0.3)\n",
        "\n",
        "# 1.1 applying log regression model on bag of words\n",
        "lreg = LogisticRegression()\n",
        "lreg.fit(xtrain_bow, ytrain) # training the model\n",
        "\n",
        "prediction_lreg_bow = lreg.predict(xvalid_bow) # predicting on the validation set\n",
        "f1_score(yvalid,prediction_lreg_bow,average='weighted') # calculating f1 score\n",
        "\n",
        "#final validation set \n",
        "prediction_lreg_val_bow = lreg.predict(test_bow) # predicting on the test set given seperately\n",
        "test['sentiment'] = prediction_lreg_val_bow\n",
        "submission = test[['tweet_id','sentiment']]\n",
        "submission\n",
        "submission.to_csv('sub_lreg_bow.csv', index=False) # writing data to a CSV file\n"
      ],
      "execution_count": 60,
      "outputs": [
        {
          "output_type": "stream",
          "text": [
            "/usr/local/lib/python3.6/dist-packages/sklearn/linear_model/_logistic.py:940: ConvergenceWarning: lbfgs failed to converge (status=1):\n",
            "STOP: TOTAL NO. of ITERATIONS REACHED LIMIT.\n",
            "\n",
            "Increase the number of iterations (max_iter) or scale the data as shown in:\n",
            "    https://scikit-learn.org/stable/modules/preprocessing.html\n",
            "Please also refer to the documentation for alternative solver options:\n",
            "    https://scikit-learn.org/stable/modules/linear_model.html#logistic-regression\n",
            "  extra_warning_msg=_LOGISTIC_SOLVER_CONVERGENCE_MSG)\n"
          ],
          "name": "stderr"
        }
      ]
    },
    {
      "cell_type": "code",
      "metadata": {
        "id": "jm9J-8ZAzfEN",
        "colab_type": "code",
        "colab": {}
      },
      "source": [
        "train_tfidf = tfidf[:7274,:]\n",
        "test_tfidf = tfidf[7274:,:]\n",
        "\n",
        "xtrain_tfidf = train_tfidf[ytrain.index]\n",
        "xvalid_tfidf = train_tfidf[yvalid.index]"
      ],
      "execution_count": 0,
      "outputs": []
    },
    {
      "cell_type": "code",
      "metadata": {
        "id": "2ewMl18bziDG",
        "colab_type": "code",
        "colab": {}
      },
      "source": [
        "#1.2 applying log regression model on TFIDF\n",
        "\n",
        "lreg.fit(xtrain_tfidf, ytrain)\n",
        "\n",
        "prediction_lreg_tfidf = lreg.predict(xvalid_tfidf)\n",
        "print(f1_score(yvalid,prediction_lreg_tfidf,average='weighted')) # calculating f1 score\n",
        "\n",
        "\n",
        "#final validation set \n",
        "prediction_lreg_val_tfidf = lreg.predict(test_bow) # predicting on the test set given seperately\n",
        "test['sentiment'] = prediction_lreg_val_tfidf\n",
        "submission = test[['tweet_id','sentiment']]\n",
        "submission\n",
        "submission.to_csv('sub_lreg_tfidf.csv', index=False) # writing data to a CSV file"
      ],
      "execution_count": 0,
      "outputs": []
    },
    {
      "cell_type": "code",
      "metadata": {
        "id": "Ggs6gKIk1A_6",
        "colab_type": "code",
        "colab": {
          "base_uri": "https://localhost:8080/",
          "height": 35
        },
        "outputId": "58c4a404-d134-409c-abcb-57f41f7d2661"
      },
      "source": [
        "# 2.1 Support Vector Machine¶\n",
        "from sklearn import svm\n",
        "svc = svm.SVC(kernel='linear', C=1, probability=True).fit(xtrain_bow, ytrain)\n",
        "\n",
        "prediction_svc_bow = svc.predict(xvalid_bow)\n",
        "\n",
        "print(f1_score(yvalid, prediction_svc_bow, average='weighted'))\n",
        "\n",
        "#final validation set \n",
        "prediction_svc_val_bow = svc.predict(test_bow) # predicting on the test set given seperately\n",
        "test['sentiment'] = prediction_svc_val_bow\n",
        "submission = test[['tweet_id','sentiment']]\n",
        "submission\n",
        "submission.to_csv('sub_svc_bow.csv', index=False) # writing data to a CSV file\n",
        "\n"
      ],
      "execution_count": 62,
      "outputs": [
        {
          "output_type": "stream",
          "text": [
            "0.6194039374457806\n"
          ],
          "name": "stdout"
        }
      ]
    },
    {
      "cell_type": "code",
      "metadata": {
        "id": "WkHEcNpi1BhG",
        "colab_type": "code",
        "colab": {
          "base_uri": "https://localhost:8080/",
          "height": 35
        },
        "outputId": "868cb828-7fda-4282-9416-993048b0e0f4"
      },
      "source": [
        "#2.2 SVM with TFIDF\n",
        "svc = svm.SVC(kernel='linear', C=1, probability=True).fit(xtrain_tfidf, ytrain)\n",
        "\n",
        "prediction_svc_tfidf = svc.predict(xvalid_tfidf)\n",
        "print(f1_score(yvalid, prediction_svc_tfidf, average='weighted'))\n",
        "\n",
        "#final validation set \n",
        "prediction_svc_val_tfidf = svc.predict(test_bow) # predicting on the test set given seperately\n",
        "test['sentiment'] = prediction_svc_val_tfidf\n",
        "submission = test[['tweet_id','sentiment']]\n",
        "submission\n",
        "submission.to_csv('sub_svc_tfidf.csv', index=False) # writing data to a CSV file\n",
        "\n"
      ],
      "execution_count": 63,
      "outputs": [
        {
          "output_type": "stream",
          "text": [
            "0.6126649877365693\n"
          ],
          "name": "stdout"
        }
      ]
    },
    {
      "cell_type": "code",
      "metadata": {
        "id": "5j3bzDNc76eS",
        "colab_type": "code",
        "colab": {
          "base_uri": "https://localhost:8080/",
          "height": 35
        },
        "outputId": "bd4302fa-0877-42a8-ef21-b7b419a4aed8"
      },
      "source": [
        "#3.1 RandomForest with BOW\n",
        "from sklearn.ensemble import RandomForestClassifier\n",
        "rf = RandomForestClassifier(n_estimators=400, random_state=42).fit(xtrain_bow, ytrain)\n",
        "\n",
        "prediction_rf_bow = rf.predict(xvalid_bow)\n",
        "\n",
        "print(f1_score(yvalid, prediction_rf_bow, average='weighted'))\n",
        "\n",
        "#final validation set \n",
        "prediction_rf_val_bow = rf.predict(test_bow) # predicting on the test set given seperately\n",
        "test['sentiment'] = prediction_rf_val_bow\n",
        "submission = test[['tweet_id','sentiment']]\n",
        "submission\n",
        "submission.to_csv('sub_rf_bow.csv', index=False) # writing data to a CSV file\n",
        "\n",
        "\n"
      ],
      "execution_count": 69,
      "outputs": [
        {
          "output_type": "stream",
          "text": [
            "0.6342464460307682\n"
          ],
          "name": "stdout"
        }
      ]
    },
    {
      "cell_type": "code",
      "metadata": {
        "id": "Q3pyDVHf9NHc",
        "colab_type": "code",
        "colab": {
          "base_uri": "https://localhost:8080/",
          "height": 35
        },
        "outputId": "a41d24f4-aff3-42ff-81fd-91f7f23d1afc"
      },
      "source": [
        "# RandomForest with TFIDF\n",
        "rf = RandomForestClassifier(n_estimators=400, random_state=42).fit(xtrain_tfidf, ytrain)\n",
        "\n",
        "prediction_rf_tfidf = rf.predict(xvalid_tfidf)\n",
        "\n",
        "print(f1_score(yvalid, prediction_rf_tfidf , average='weighted'))\n",
        "\n",
        "#final validation set \n",
        "prediction_rf_val_tfidf = rf.predict(test_bow) # predicting on the test set given seperately\n",
        "test['sentiment'] = prediction_rf_val_tfidf\n",
        "submission = test[['tweet_id','sentiment']]\n",
        "submission\n",
        "submission.to_csv('sub_rf_tfidf.csv', index=False) # writing data to a CSV file\n",
        "\n",
        "\n"
      ],
      "execution_count": 68,
      "outputs": [
        {
          "output_type": "stream",
          "text": [
            "0.6254982809312195\n"
          ],
          "name": "stdout"
        }
      ]
    },
    {
      "cell_type": "code",
      "metadata": {
        "id": "DQIrbXts-OLw",
        "colab_type": "code",
        "colab": {
          "base_uri": "https://localhost:8080/",
          "height": 35
        },
        "outputId": "c2898328-5276-4bb0-d99a-432244bb0fd4"
      },
      "source": [
        "#4.1. XGBoost with BOW\n",
        "from xgboost import XGBClassifier\n",
        "\n",
        "xgb_model = XGBClassifier(max_depth=6, n_estimators=1000).fit(xtrain_bow, ytrain)\n",
        "prediction_xgb_model = xgb_model.predict(xvalid_bow)\n",
        "\n",
        "print(f1_score(yvalid, prediction_xgb_model , average='weighted'))\n",
        "\n",
        "\n",
        "#final validation set \n",
        "prediction_xgb_val_bow = xgb_model.predict(test_bow) # predicting on the test set given seperately\n",
        "test['sentiment'] = prediction_xgb_val_bow\n",
        "submission = test[['tweet_id','sentiment']]\n",
        "submission\n",
        "submission.to_csv('sub_xgb_bow.csv', index=False) # writing data to a CSV file\n"
      ],
      "execution_count": 75,
      "outputs": [
        {
          "output_type": "stream",
          "text": [
            "0.6476111759076212\n"
          ],
          "name": "stdout"
        }
      ]
    },
    {
      "cell_type": "code",
      "metadata": {
        "id": "RzaBeu4F_e7i",
        "colab_type": "code",
        "colab": {
          "base_uri": "https://localhost:8080/",
          "height": 35
        },
        "outputId": "2623c17a-989d-43b3-c03f-527fff99bf50"
      },
      "source": [
        "#4.2 XGB with TFIDF\n",
        "xgb = XGBClassifier(max_depth=6, n_estimators=1000).fit(xtrain_tfidf, ytrain)\n",
        "\n",
        "prediction_xgb_tfidf = xgb.predict(xvalid_tfidf)\n",
        "print(f1_score(yvalid,prediction_xgb_tfidf ,average='weighted'))\n",
        "\n",
        "#final validation set \n",
        "prediction_xgb_tfidf = xgb.predict(test_bow) # predicting on the test set given seperately\n",
        "test['sentiment'] = prediction_xgb_tfidf\n",
        "submission = test[['tweet_id','sentiment']]\n",
        "submission\n",
        "submission.to_csv('sub_xgb_tfidf.csv', index=False) # writing data to a CSV file\n"
      ],
      "execution_count": 77,
      "outputs": [
        {
          "output_type": "stream",
          "text": [
            "0.6297995725369903\n"
          ],
          "name": "stdout"
        }
      ]
    },
    {
      "cell_type": "code",
      "metadata": {
        "id": "QbLFLc9tB04-",
        "colab_type": "code",
        "colab": {}
      },
      "source": [
        "bow_vectorizer_ngram = CountVectorizer(max_df=0.90, min_df=2, max_features=80000, ngram_range = (1,3))\n",
        "bow2 = bow_vectorizer_ngram.fit_transform(combi['tidy_tweet'])\n",
        "bow2\n",
        "\n",
        "train_bow2 = bow2[:7274,:]\n",
        "test_bow2 = bow2[7274:,:]\n",
        "# splitting data into training and validation set\n",
        "xtrain_bow2, xvalid_bow2, ytrain2, yvalid2 = train_test_split(train_bow2, train['sentiment'], random_state=42, test_size=0.3)\n"
      ],
      "execution_count": 0,
      "outputs": []
    },
    {
      "cell_type": "code",
      "metadata": {
        "id": "ZfRe7OhkD4KR",
        "colab_type": "code",
        "colab": {
          "base_uri": "https://localhost:8080/",
          "height": 35
        },
        "outputId": "fd95d775-9591-4994-9f6f-e4d1b0faa42a"
      },
      "source": [
        "\n",
        "### XGB with ngram = 3 and bag of words\n",
        "xgb_model2 = XGBClassifier(max_depth=6, n_estimators=1000).fit(xtrain_bow2, ytrain2)\n",
        "prediction_xgb_model2 = xgb_model2.predict(xvalid_bow2)\n",
        "\n",
        "print(f1_score(yvalid2, prediction_xgb_model2 , average='weighted'))\n",
        "\n",
        "\n",
        "#final validation set \n",
        "prediction_xgb_val_bow2 = xgb_model2.predict(test_bow2) # predicting on the test set given seperately\n",
        "test['sentiment'] = prediction_xgb_val_bow2\n",
        "submission = test[['tweet_id','sentiment']]\n",
        "submission\n",
        "submission.to_csv('sub_xgb_bow_ngram3.csv', index=False) # writing data to a CSV file\n"
      ],
      "execution_count": 87,
      "outputs": [
        {
          "output_type": "stream",
          "text": [
            "0.6427508250786191\n"
          ],
          "name": "stdout"
        }
      ]
    },
    {
      "cell_type": "code",
      "metadata": {
        "id": "2FQTBWcCJBwb",
        "colab_type": "code",
        "colab": {
          "base_uri": "https://localhost:8080/",
          "height": 197
        },
        "outputId": "c5dd32a3-9cb6-4d09-a7df-0c22db73135d"
      },
      "source": [
        "## 1.1 applying log regression model on bag of words\n",
        "\n",
        "lreg = LogisticRegression(class_weight= 'balanced')\n",
        "\n",
        "lreg.fit(xtrain_bow2, ytrain2) # training the model\n",
        "\n",
        "prediction_lreg_bow2 = lreg.predict(xvalid_bow2) # predicting on the validation set\n",
        "print(f1_score(yvalid2,prediction_lreg_bow2,average='weighted')) # calculating f1 score\n",
        "\n",
        "#final validation set \n",
        "prediction_lreg_val_bow2 = lreg.predict(test_bow2) # predicting on the test set given seperately\n",
        "test['sentiment'] = prediction_lreg_val_bow2\n",
        "submission = test[['tweet_id','sentiment']]\n",
        "submission\n",
        "submission.to_csv('sub_lreg_bow_ngram3.csv', index=False) # writing data to a CSV file\n"
      ],
      "execution_count": 94,
      "outputs": [
        {
          "output_type": "stream",
          "text": [
            "0.6487852096306046\n"
          ],
          "name": "stdout"
        },
        {
          "output_type": "stream",
          "text": [
            "/usr/local/lib/python3.6/dist-packages/sklearn/linear_model/_logistic.py:940: ConvergenceWarning: lbfgs failed to converge (status=1):\n",
            "STOP: TOTAL NO. of ITERATIONS REACHED LIMIT.\n",
            "\n",
            "Increase the number of iterations (max_iter) or scale the data as shown in:\n",
            "    https://scikit-learn.org/stable/modules/preprocessing.html\n",
            "Please also refer to the documentation for alternative solver options:\n",
            "    https://scikit-learn.org/stable/modules/linear_model.html#logistic-regression\n",
            "  extra_warning_msg=_LOGISTIC_SOLVER_CONVERGENCE_MSG)\n"
          ],
          "name": "stderr"
        }
      ]
    },
    {
      "cell_type": "code",
      "metadata": {
        "id": "ARb057q9NJ47",
        "colab_type": "code",
        "colab": {
          "base_uri": "https://localhost:8080/",
          "height": 35
        },
        "outputId": "b39bb532-8e1f-4cbc-b5ae-12afd29f0d4a"
      },
      "source": [
        "#3.1 RandomForest with BOW\n",
        "from sklearn.ensemble import RandomForestClassifier\n",
        "rf2 = RandomForestClassifier(n_estimators=400, random_state=42, class_weight='balanced').fit(xtrain_bow2, ytrain2)\n",
        "\n",
        "prediction_rf_bow2 = rf2.predict(xvalid_bow2)\n",
        "\n",
        "print(f1_score(yvalid2, prediction_rf_bow2, average='weighted'))\n",
        "\n",
        "#final validation set \n",
        "prediction_rf_val_bow2 = rf2.predict(test_bow2) # predicting on the test set given seperately\n",
        "test['sentiment'] = prediction_rf_val_bow2\n",
        "submission = test[['tweet_id','sentiment']]\n",
        "submission\n",
        "submission.to_csv('sub_rf_bow2_ngram3_balanced.csv', index=False) # writing data to a CSV file\n"
      ],
      "execution_count": 96,
      "outputs": [
        {
          "output_type": "stream",
          "text": [
            "0.6080848447913078\n"
          ],
          "name": "stdout"
        }
      ]
    },
    {
      "cell_type": "code",
      "metadata": {
        "id": "GQRl9TUbOOnY",
        "colab_type": "code",
        "colab": {}
      },
      "source": [
        ""
      ],
      "execution_count": 0,
      "outputs": []
    }
  ]
}